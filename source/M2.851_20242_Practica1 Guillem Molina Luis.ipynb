{
 "cells": [
  {
   "attachments": {
    "image.png": {
     "image/png": "[encoded data removed]"
    }
   },
   "cell_type": "markdown",
   "id": "2ec363b7",
   "metadata": {},
   "source": [
    "#**M2.851_20242_Practica1 Guillem Molina Luis**\n",
    "\n",
    "Integrante: Guillem Molina Luis\n",
    "Enlace: (https://victoryroad.pro/) y (https://pokemondb.net/pokedex/all)\n",
    "Repositorio: https://github.com/Guillemolina0101/M2.851_20242_Practica1-Guillem-Molina-Luis_\n",
    "Zenodo DOI: 10.5281/zenodo.15165065 \n",
    "Zenodo url: https://zenodo.org/records/15165066\n",
    "\n",
    "##**Contexto**\n",
    "\n",
    "VictoryRoad.pro (https://victoryroad.pro/) es una plataforma especializada en el seguimiento de los Pokémon Video Game Championships (VGC), el formato competitivo de los videojuegos de Pokémon. Desde 2009, este campeonato global reúne a jugadores de todo el mundo para competir por el título de Campeón Mundial. El sitio ofrece información clave como resultados de torneos, perfiles de jugadores y estadísticas de uso de Pokémon, movimientos y objetos.\n",
    "\n",
    "Fuente Pertinente y Fiable: VictoryRoad.pro es pertinente y fiable debido a su especialización en VGC, su cobertura global de torneos y su actualización constante, lo que lo convierte en una fuente clave para obtener datos relevantes y actuales del metajuego competitivo de Pokémon.\n",
    "\n",
    "Dirección del Sitio Web:\n",
    "\n",
    "https://victoryroad.pro/\n",
    "\n",
    "Pokémon Database (PokémonDB) (https://pokemondb.net/pokedex/all) es una plataforma en línea que ofrece información exhaustiva sobre los Pokémon, cubriendo todos los aspectos de la serie, incluyendo estadísticas de batalla, movimientos, habilidades, evoluciones, ubicaciones y más. Es un recurso ampliamente utilizado por la comunidad de jugadores de Pokémon debido a su organización y a la amplitud de información proporcionada.\n",
    "\n",
    "Fuente Pertinente y Fiable: PokémonDB es pertinente y fiable porque se actualiza regularmente con información precisa y detallada sobre todos los Pokémon, basándose en datos oficiales de los juegos de la serie. La plataforma proporciona información crucial sobre las características de cada Pokémon, lo que la convierte en una fuente valiosa tanto para jugadores casuales como competitivos que buscan optimizar sus estrategias y equipos en los juegos de Pokémon.\n",
    "\n",
    "Dirección del Sitio Web:\n",
    "https://pokemondb.net/pokedex/all\n",
    "\n",
    "##**Título**\n",
    "\n",
    "(Competencia Pokémon VGC 2017-2025)\n",
    "\n",
    "##**Descripción del Dataset**\n",
    "\n",
    "**vgc_data_2017-2025**\n",
    "\n",
    "El primer conjunto de datos extraído corresponde a los resultados de los clasificatorios de torneos de Pokémon dentro del VR Circuit desde 2017 hasta 2025. Este dataset contiene información detallada sobre los participantes y sus desempeños.\n",
    "\n",
    "Este conjunto de datos consta de 1799 registros que detallan la actuación de jugadores en diferentes eventos dentro del VR Circuit, proporcionando información sobre las estrategias de equipos, el rendimiento de los jugadores, y los premios obtenidos.\n",
    "\n",
    "**pokemon_pokedex_completo**\n",
    "\n",
    "El segundo conjunto de datos extraído corresponde a la Pokédex de Pokémon, que contiene información detallada sobre los Pokémon de la serie, incluyendo sus estadísticas base y tipos.\n",
    "\n",
    "Este dataset contiene información de todos los Pokémon disponibles en la Pokédex de la serie, con un total de 1215 registros, cubriendo desde el primer Pokémon, Bulbasaur, hasta los Pokémon más recientes de las últimas generaciones.\n",
    "\n",
    "\n",
    "##**Representación gráfica.**\n",
    "\n",
    "Se adjuntará el archivo png en el directorio de la practica. \n",
    "\n",
    "![image.png](attachment:image.png)\n",
    "\n",
    "##**Contenido**\n",
    "\n",
    "**vgc_data_2017-2025**\n",
    "\n",
    "Placement: Posición en el clasificatorio.\n",
    "\n",
    "Swiss: Resultados de la fase suiza, representados por la cantidad de victorias y derrotas del jugador.\n",
    "\n",
    "Country: Información sobre el país del jugador.\n",
    "\n",
    "Player: Nombre del jugador junto con su apodo o seudónimo.\n",
    "\n",
    "Prize: Premio obtenido por el jugador, incluyendo los valores monetarios o puntos extra.\n",
    "\n",
    "Team: Lista de Pokémon utilizados por el jugador en el torneo, presentados como una lista de nombres.\n",
    "\n",
    "Class: Clase o categoría del torneo en el que el jugador participó.\n",
    "\n",
    "Tournament: Nombre del evento específico de la competencia o el título del clasificatorio.\n",
    "\n",
    "**pokemon_pokedex_completo**\n",
    "\n",
    "#: Identificador único del Pokémon, representado por un número de 4 dígitos (ej., 0001 para Bulbasaur).\n",
    "\n",
    "Name: Nombre del Pokémon, como Bulbasaur, Ivysaur, etc.\n",
    "\n",
    "Type: Los tipos del Pokémon, los cuales pueden ser uno o dos (por ejemplo, Bulbasaur tiene los tipos \"Grass\" y \"Poison\").\n",
    "\n",
    "Total: La suma de todas las estadísticas base del Pokémon, que incluyen su poder global.\n",
    "\n",
    "HP: Salud (Hit Points), que determina la cantidad de daño que un Pokémon puede recibir antes de ser derrotado.\n",
    "\n",
    "Attack: Estadística que mide el poder de ataque físico de un Pokémon.\n",
    "\n",
    "Defense: Estadística que mide la capacidad de defensa física del Pokémon.\n",
    "\n",
    "Sp. Atk: Estadística que mide el poder de ataque especial del Pokémon.\n",
    "\n",
    "Sp. Def: Estadística que mide la capacidad de defensa especial del Pokémon.\n",
    "\n",
    "Speed: Estadística que mide la velocidad del Pokémon, importante para determinar quién actúa primero en combate.\n",
    "\n",
    "**Propietario**\n",
    "\n",
    "A continuación seguimos las directrices de evaluación que presentan los recursos de aprendizaje del aula para demostrar los principios éticos y legales en el contexto del proyecto elegido y también información sobre el propietario de los datos."
   ]
  },
  {
   "cell_type": "markdown",
   "id": "bff2f28b",
   "metadata": {},
   "source": [
    "##**1.Evaluación Inicial**\n",
    "###**1.1 Robots.txt**"
   ]
  },
  {
   "cell_type": "code",
   "execution_count": 1,
   "id": "d050d8d9",
   "metadata": {},
   "outputs": [
    {
     "name": "stdout",
     "output_type": "stream",
     "text": [
      "c:\\Users\\gmoli\\AppData\\Local\\Programs\\Python\\Python38\\python.exe\n",
      "['c:\\\\Users\\\\gmoli\\\\AppData\\\\Local\\\\Programs\\\\Python\\\\Python38\\\\python38.zip', 'c:\\\\Users\\\\gmoli\\\\AppData\\\\Local\\\\Programs\\\\Python\\\\Python38\\\\DLLs', 'c:\\\\Users\\\\gmoli\\\\AppData\\\\Local\\\\Programs\\\\Python\\\\Python38\\\\lib', 'c:\\\\Users\\\\gmoli\\\\AppData\\\\Local\\\\Programs\\\\Python\\\\Python38', '', 'C:\\\\Users\\\\gmoli\\\\AppData\\\\Roaming\\\\Python\\\\Python38\\\\site-packages', 'C:\\\\Users\\\\gmoli\\\\AppData\\\\Roaming\\\\Python\\\\Python38\\\\site-packages\\\\win32', 'C:\\\\Users\\\\gmoli\\\\AppData\\\\Roaming\\\\Python\\\\Python38\\\\site-packages\\\\win32\\\\lib', 'C:\\\\Users\\\\gmoli\\\\AppData\\\\Roaming\\\\Python\\\\Python38\\\\site-packages\\\\Pythonwin', 'c:\\\\Users\\\\gmoli\\\\AppData\\\\Local\\\\Programs\\\\Python\\\\Python38\\\\lib\\\\site-packages']\n"
     ]
    }
   ],
   "source": [
    "import sys\n",
    "print(sys.executable)  # ¿usa el correcto python.exe?\n",
    "print(sys.path)         # ¿incluye site-packages en Roaming?\n"
   ]
  },
  {
   "cell_type": "code",
   "execution_count": 2,
   "id": "1de147a4",
   "metadata": {},
   "outputs": [
    {
     "name": "stdout",
     "output_type": "stream",
     "text": [
      "User-agent: *\n",
      "Disallow: /wp-admin/\n",
      "Allow: /wp-admin/admin-ajax.php\n",
      "\n",
      "Sitemap: https://victoryroad.pro/wp-sitemap.xml\n",
      "\n",
      "User-agent: *\n",
      "Disallow: /*blackhole\n",
      "Disallow: /?blackhole\n",
      "\n"
     ]
    }
   ],
   "source": [
    "import requests\n",
    "\n",
    "url_base = \"https://victoryroad.pro\"\n",
    "\n",
    "# Construimos el txt del robots.txt\n",
    "robots_url = f\"{url_base}/robots.txt\"\n",
    "\n",
    "# GET request the robots.txt\n",
    "response = requests.get(robots_url)\n",
    "\n",
    "# Check if the request was successful\n",
    "if response.status_code == 200:\n",
    "    # Print the content of the robots.txt\n",
    "    print(response.text)\n",
    "else:\n",
    "    print(f\"Failed to retrieve robots.txt: {response.status_code}\")"
   ]
  },
  {
   "cell_type": "markdown",
   "id": "c88fb5dc",
   "metadata": {},
   "source": [
    "Viendo el contenido del robots.txt, parece estar libre de restricciones para las url que vamos a seguir."
   ]
  },
  {
   "cell_type": "markdown",
   "id": "114b6f94",
   "metadata": {},
   "source": [
    "###**1.2 Sitemap**\n",
    "Mediante el apartado 1.1 podemos obtener el Sitemap necesario  Sitemap: https://victoryroad.pro/sitemap.xml"
   ]
  },
  {
   "cell_type": "markdown",
   "id": "358f4d46",
   "metadata": {},
   "source": [
    "###**1.3 Tamaño**\n",
    "Mediante site:https://victoryroad.pro obetenemos aproximnadamente 2580 resultados."
   ]
  },
  {
   "cell_type": "markdown",
   "id": "fd90741a",
   "metadata": {},
   "source": [
    "###**1.4 Teconología usada**"
   ]
  },
  {
   "cell_type": "code",
   "execution_count": 3,
   "id": "30704653",
   "metadata": {},
   "outputs": [
    {
     "name": "stdout",
     "output_type": "stream",
     "text": [
      "Requirement already satisfied: builtwith in c:\\users\\gmoli\\appdata\\local\\programs\\python\\python38\\lib\\site-packages (1.3.4)\n",
      "Requirement already satisfied: six in c:\\users\\gmoli\\appdata\\roaming\\python\\python38\\site-packages (from builtwith) (1.17.0)\n",
      "Note: you may need to restart the kernel to use updated packages.\n"
     ]
    }
   ],
   "source": [
    "pip install builtwith"
   ]
  },
  {
   "cell_type": "code",
   "execution_count": 4,
   "id": "bb96e538",
   "metadata": {},
   "outputs": [
    {
     "data": {
      "text/plain": [
       "{'javascript-frameworks': ['Backbone.js', 'Underscore.js', 'jQuery'],\n",
       " 'font-scripts': ['Google Font API'],\n",
       " 'payment-processors': ['Stripe'],\n",
       " 'web-frameworks': ['UIKit'],\n",
       " 'cms': ['WordPress'],\n",
       " 'programming-languages': ['PHP'],\n",
       " 'blogs': ['PHP', 'WordPress']}"
      ]
     },
     "execution_count": 4,
     "metadata": {},
     "output_type": "execute_result"
    }
   ],
   "source": [
    "import builtwith\n",
    "builtwith.builtwith(url_base)"
   ]
  },
  {
   "cell_type": "markdown",
   "id": "25fad91e",
   "metadata": {},
   "source": [
    "Podemos ver que el programming language usado es PHP y tiene diferentes javascript frameworks: Backbone.js, Underscore.js y jQuery.js."
   ]
  },
  {
   "cell_type": "markdown",
   "id": "b8a84e92",
   "metadata": {},
   "source": [
    "###**1.5 Propietario**"
   ]
  },
  {
   "cell_type": "code",
   "execution_count": 5,
   "id": "24c3f2f9",
   "metadata": {},
   "outputs": [
    {
     "name": "stdout",
     "output_type": "stream",
     "text": [
      "Requirement already satisfied: python-whois in c:\\users\\gmoli\\appdata\\local\\programs\\python\\python38\\lib\\site-packages (0.9.5)\n",
      "Requirement already satisfied: python-dateutil in c:\\users\\gmoli\\appdata\\roaming\\python\\python38\\site-packages (from python-whois) (2.9.0.post0)\n",
      "Requirement already satisfied: six>=1.5 in c:\\users\\gmoli\\appdata\\roaming\\python\\python38\\site-packages (from python-dateutil->python-whois) (1.17.0)\n",
      "Note: you may need to restart the kernel to use updated packages.\n"
     ]
    }
   ],
   "source": [
    "pip install python-whois"
   ]
  },
  {
   "cell_type": "code",
   "execution_count": 6,
   "id": "84b9124a",
   "metadata": {},
   "outputs": [
    {
     "name": "stdout",
     "output_type": "stream",
     "text": [
      "{\n",
      "  \"domain_name\": \"victoryroad.pro\",\n",
      "  \"registrar\": \"Tecnocrática Centro de Datos, S.L.\",\n",
      "  \"registrar_url\": \"http://www.virtualname.es\",\n",
      "  \"reseller\": null,\n",
      "  \"whois_server\": \"whois://whois.tecnocratica.net\",\n",
      "  \"referral_url\": null,\n",
      "  \"updated_date\": \"2024-11-22 17:42:57\",\n",
      "  \"creation_date\": \"2024-07-27 12:14:09\",\n",
      "  \"expiration_date\": \"2026-07-27 12:14:09\",\n",
      "  \"name_servers\": [\n",
      "    \"dns104.ovh.net\",\n",
      "    \"ns104.ovh.net\"\n",
      "  ],\n",
      "  \"status\": [\n",
      "    \"clientDeleteProhibited https://icann.org/epp#clientDeleteProhibited\",\n",
      "    \"clientTransferProhibited https://icann.org/epp#clientTransferProhibited\"\n",
      "  ],\n",
      "  \"emails\": \"abuse@tecnocratica.net\",\n",
      "  \"dnssec\": \"unsigned\",\n",
      "  \"name\": \"REDACTED FOR PRIVACY\",\n",
      "  \"org\": null,\n",
      "  \"address\": \"REDACTED FOR PRIVACY\",\n",
      "  \"city\": \"REDACTED FOR PRIVACY\",\n",
      "  \"state\": \"Madrid\",\n",
      "  \"registrant_postal_code\": \"REDACTED FOR PRIVACY\",\n",
      "  \"country\": \"ES\"\n",
      "}\n"
     ]
    }
   ],
   "source": [
    "import whois\n",
    "print(whois.whois(url_base))"
   ]
  },
  {
   "cell_type": "markdown",
   "id": "306e828b",
   "metadata": {},
   "source": [
    "podemos ver que el propietario ha ocultado cierta información sobre su sitio web."
   ]
  },
  {
   "cell_type": "markdown",
   "id": "49c376a8",
   "metadata": {},
   "source": [
    "##**Inspiración**\n",
    "\n",
    "Este conjunto de datos es valioso por su capacidad para responder preguntas clave sobre el competitivo de Pokémon, tanto desde una perspectiva informativa como técnica. No he encontrado un proyecto que se asemeje y creo que eso le aporta un gran valor a este dataset Permite analizar, por ejemplo:\n",
    "\n",
    "Países punteros en el competitivo.\n",
    "\n",
    "Mejores jugadores de todos los tiempos.\n",
    "\n",
    "Rachas de victorias promedio.\n",
    "\n",
    "Equipos más utilizados por año.\n",
    "\n",
    "Desde el punto de vista técnico, se puede cruzar con la Pokédex para investigar:\n",
    "\n",
    "Tipos de Pokémon más utilizados.\n",
    "\n",
    "Estadísticas más comunes en los equipos.\n",
    "\n",
    "Pokémon o combinaciones más repetidas en los equipos ganadores.\n",
    "\n",
    "Para jugadores profesionales, este dataset es crucial, ya que permite planificar equipos más competitivos y adaptarse al meta en constante cambio.\n",
    "\n",
    "##**Licencia**\n",
    "\n",
    "CC BY-NC-SA 4.0 License\n",
    "Justificación: Esta licencia permite que otros utilicen y modifiquen el dataset, pero no con fines comerciales. Además, las versiones modificadas deben ser compartidas bajo la misma licencia. Es adecuada si se desea permitir el uso libre en contextos no comerciales, mientras se mantiene la restricción de evitar usos comerciales sin permiso explícito."
   ]
  },
  {
   "cell_type": "markdown",
   "id": "e386a92e",
   "metadata": {},
   "source": [
    "##**Código**"
   ]
  },
  {
   "cell_type": "code",
   "execution_count": 48,
   "id": "f3953ae1",
   "metadata": {},
   "outputs": [
    {
     "name": "stdout",
     "output_type": "stream",
     "text": [
      "Note: you may need to restart the kernel to use updated packages.\n"
     ]
    }
   ],
   "source": [
    "pip freeze > requirements.txt"
   ]
  },
  {
   "cell_type": "markdown",
   "id": "b0a8429e",
   "metadata": {},
   "source": [
    "requirements.txt"
   ]
  },
  {
   "cell_type": "markdown",
   "id": "bb44c0dd",
   "metadata": {},
   "source": [
    "requests==2.28.2\n",
    "beautifulsoup4==4.12.0\n",
    "pandas==1.5.3\n",
    "lxml==4.9.2\n",
    "xmltodict==0.13.0"
   ]
  },
  {
   "cell_type": "code",
   "execution_count": 7,
   "id": "63487ab0",
   "metadata": {},
   "outputs": [
    {
     "name": "stdout",
     "output_type": "stream",
     "text": [
      "Requirement already satisfied: bs4 in c:\\users\\gmoli\\appdata\\local\\programs\\python\\python38\\lib\\site-packages (0.0.2)\n",
      "Requirement already satisfied: beautifulsoup4 in c:\\users\\gmoli\\appdata\\local\\programs\\python\\python38\\lib\\site-packages (from bs4) (4.13.3)\n",
      "Requirement already satisfied: soupsieve>1.2 in c:\\users\\gmoli\\appdata\\local\\programs\\python\\python38\\lib\\site-packages (from beautifulsoup4->bs4) (2.6)\n",
      "Requirement already satisfied: typing-extensions>=4.0.0 in c:\\users\\gmoli\\appdata\\roaming\\python\\python38\\site-packages (from beautifulsoup4->bs4) (4.13.1)\n",
      "Note: you may need to restart the kernel to use updated packages.\n"
     ]
    }
   ],
   "source": [
    "pip install bs4"
   ]
  },
  {
   "cell_type": "code",
   "execution_count": 19,
   "id": "3910b02e",
   "metadata": {},
   "outputs": [
    {
     "name": "stdout",
     "output_type": "stream",
     "text": [
      "Collecting xmltodict\n",
      "  Downloading xmltodict-0.14.2-py2.py3-none-any.whl.metadata (8.0 kB)\n",
      "Downloading xmltodict-0.14.2-py2.py3-none-any.whl (10.0 kB)\n",
      "Installing collected packages: xmltodict\n",
      "Successfully installed xmltodict-0.14.2\n",
      "Note: you may need to restart the kernel to use updated packages.\n"
     ]
    }
   ],
   "source": [
    "pip install xmltodict"
   ]
  },
  {
   "cell_type": "code",
   "execution_count": 1,
   "id": "984383fa",
   "metadata": {},
   "outputs": [
    {
     "name": "stdout",
     "output_type": "stream",
     "text": [
      "     Placement Swiss Country                            Player     Prize  \\\n",
      "0            1   4-2     ESP              Jesús Jiménez(Susej)       400   \n",
      "1            2   5-1     ESP    ÁlvaroGutiérrez-Alonso(Astano)  300(+50)   \n",
      "2            3   5-1     ESP       Guillermo Castilla(KastyTP)       200   \n",
      "3            4   4-2     ESP          Álvaro Carrasco(Dolphin)  200(+50)   \n",
      "4            5   5-1     ESP                Jesús Ruiz(☆Jesús)  150(+25)   \n",
      "...        ...   ...     ...                               ...       ...   \n",
      "1794         8   4-2     USA                   Mia Gray(Mia G)         –   \n",
      "1795         9   5-1     POL  Fiona Szymkiewicz(Yoshiandlugia)         –   \n",
      "1796        10   4-2     ITA                    Blacky(Blacky)         –   \n",
      "1797        11   4-2     USA            Alexis Esparza(Alexis)         –   \n",
      "1798        12   4-2     USA               Norah Bowman(Norah)         –   \n",
      "\n",
      "                                                   Team                 Class  \\\n",
      "0     [Ludicolo, Salamence, Politoed, Raikou, Mamosw...  Equipos y resultados   \n",
      "1     [Breloom, Arcanine, Mamoswine, Rotom-wash, Lat...  Equipos y resultados   \n",
      "2     [Tyranitar, Hitmontop, Gastrodon, Rotom-heat, ...  Equipos y resultados   \n",
      "3     [Breloom, Arcanine, Mamoswine, Rotom-wash, Lat...  Equipos y resultados   \n",
      "4     [Breloom, Gyarados, Mamoswine, Tyranitar, Cres...  Equipos y resultados   \n",
      "...                                                 ...                   ...   \n",
      "1794  [Rillaboom, Heatran, Urshifu, Tsareena, Tornad...     Teams and Results   \n",
      "1795  [Rillaboom, Incineroar, Urshifu, Naganadel, Su...     Teams and Results   \n",
      "1796  [Rillaboom, Incineroar, Urshifu, Dragonite, Cr...     Teams and Results   \n",
      "1797  [Rillaboom, Incineroar, Urshifu, Stakataka, Ni...     Teams and Results   \n",
      "1798  [Rillaboom, Incineroar, Tapu-Fini, Garchomp, N...     Teams and Results   \n",
      "\n",
      "                                             Tournament  \n",
      "0     Equipos y resultados del Clasificatorio 2 del ...  \n",
      "1     Equipos y resultados del Clasificatorio 2 del ...  \n",
      "2     Equipos y resultados del Clasificatorio 2 del ...  \n",
      "3     Equipos y resultados del Clasificatorio 2 del ...  \n",
      "4     Equipos y resultados del Clasificatorio 2 del ...  \n",
      "...                                                 ...  \n",
      "1794         Teams and Results from Hatterene Series #5  \n",
      "1795         Teams and Results from Hatterene Series #5  \n",
      "1796         Teams and Results from Hatterene Series #5  \n",
      "1797         Teams and Results from Hatterene Series #5  \n",
      "1798         Teams and Results from Hatterene Series #5  \n",
      "\n",
      "[1799 rows x 8 columns]\n"
     ]
    }
   ],
   "source": [
    "import requests\n",
    "from bs4 import BeautifulSoup\n",
    "import pandas as pd\n",
    "import warnings\n",
    "import re\n",
    "\n",
    "# Filtrar advertencias relacionadas con el XMLParsedAsHTMLWarning\n",
    "from bs4 import XMLParsedAsHTMLWarning\n",
    "warnings.filterwarnings(\"ignore\", category=XMLParsedAsHTMLWarning)\n",
    "\n",
    "# Definir el patrón de búsqueda para filtrar URLs. Defino tantas variables ya que el Sitemap presenta muchisimas URLs y solo quiero quedarme con las que contienen tablas de resultados\n",
    "PATTERN = r\"(2017|2018|2019|2020|2021|2022|2023|2024|2025).*(results|championship|result)\"\n",
    "\n",
    "def obtener_urls_de_sitemap(url):\n",
    "    \"\"\"\n",
    "    Función recursiva que obtiene todas las URLs de un sitemap, incluso si hay sitemaps anidados.\n",
    "    También filtra las URLs que contienen los años y las palabras clave de interés.\n",
    "    \"\"\"\n",
    "    response = requests.get(url)\n",
    "    soup = BeautifulSoup(response.text, 'lxml')  # Usamos lxml para procesar XML\n",
    "\n",
    "    urls = []\n",
    "\n",
    "    # Si encontramos <url>, extraemos las URLs y las filtramos\n",
    "    for loc in soup.find_all('loc'):\n",
    "        url_text = loc.text.strip()\n",
    "        if re.search(PATTERN, url_text):  # Filtrar por el patrón\n",
    "            urls.append(url_text)\n",
    "\n",
    "    # Si encontramos <sitemap>, significa que hay más sitemaps a procesar\n",
    "    for sitemap in soup.find_all('sitemap'):\n",
    "        loc = sitemap.find('loc')\n",
    "        if loc:\n",
    "            urls += obtener_urls_de_sitemap(loc.text.strip())  # Recursividad para sitemaps anidados\n",
    "\n",
    "    return urls\n",
    "\n",
    "def obtener_tablas_y_h1(url):\n",
    "    \"\"\"\n",
    "    Función para extraer el contenido de las tablas y el <h1> de una URL específica. en el H1 encontramos en nombre de la competición 'Tournament'.\n",
    "    \"\"\"\n",
    "    response = requests.get(url)\n",
    "    soup = BeautifulSoup(response.text, 'html.parser')\n",
    "\n",
    "    # Buscar el contenido de <h1>\n",
    "    h1 = soup.find('h1')\n",
    "    h1_text = h1.get_text(strip=True) if h1 else \"No H1 found\"\n",
    "\n",
    "    # Buscar y filtrar tablas relevantes\n",
    "    todas_las_tablas = soup.find_all('table')\n",
    "    tablas_filtradas = []\n",
    "\n",
    "    for tabla in todas_las_tablas:\n",
    "        th_texts = [th.text.strip().lower() for th in tabla.find_all('th')]\n",
    "        if 'swiss' in th_texts and 'flag' in th_texts and '#' in th_texts and 'player' in th_texts and 'prize' in th_texts:\n",
    "            tablas_filtradas.append(tabla)\n",
    "\n",
    "    # Función para procesar filas y añadir clase y h1\n",
    "    def obtener_dataframe(tabla, clase, h1_text):\n",
    "        rows = tabla.find_all('tr')\n",
    "        data = []\n",
    "\n",
    "        for row in rows:\n",
    "            cols = row.find_all('td')\n",
    "            if not cols:\n",
    "                continue\n",
    "# Esta parte es interesante ya que la columna Team y la columna Flag estaban representadas por pngs por lo que he debido de extraer el título de las celdas.\n",
    "            fila = []\n",
    "            for i, col in enumerate(cols[:6]):  # Solo columnas 0 a 5\n",
    "                if i == 5:  # Columna \"Team\"\n",
    "                    imgs = col.find_all('img')\n",
    "                    nombres_pokemon = [img.get('title') for img in imgs if img.get('title')]\n",
    "                    fila.append(nombres_pokemon)\n",
    "                elif i == 2:  # Columna \"Flag\" - Buscar la imagen de la bandera\n",
    "                    flag_img = col.find('img', class_='flagstyle')\n",
    "                    if flag_img:\n",
    "                        flag = flag_img.get('title', 'No Flag')\n",
    "                        fila.append(flag)\n",
    "                    else:\n",
    "                        fila.append('No Flag')\n",
    "                else:\n",
    "                    fila.append(col.get_text(strip=True))\n",
    "            if any(fila):\n",
    "                fila.append(clase)  # Añadir clase al final\n",
    "                fila.append(h1_text)  # Añadir el texto del h1 como columna nueva\n",
    "                data.append(fila)\n",
    "\n",
    "        columnas = ['Placement', 'Swiss', 'Country', 'Player', 'Prize', 'Team', 'Class', 'Tournament']\n",
    "        return pd.DataFrame(data, columns=columnas)\n",
    "\n",
    "    # Procesar cada tabla con su clase correspondiente (extraída de <h3>)\n",
    "    tablas_df = []\n",
    "    for tabla in tablas_filtradas:\n",
    "        # Buscar el <h3> que es anterior a la tabla y tiene la clase específica. El h2 si existe nos dará otro nombre del torneo.\n",
    "        h3 = tabla.find_previous('h3')\n",
    "        h2 = tabla.find_previous('h2')\n",
    "        if h3: \n",
    "            clase = h3.get_text(strip=True) \n",
    "        elif h2:\n",
    "            clase = h2.get_text(strip=True)\n",
    "        else:\n",
    "            clase = \"Unknown\"\n",
    "        \n",
    "        df = obtener_dataframe(tabla, clase, h1_text)\n",
    "        tablas_df.append(df)\n",
    "\n",
    "    # Unir los resultados de las tablas de esta URL\n",
    "    if tablas_df:\n",
    "        return pd.concat(tablas_df, ignore_index=True)\n",
    "    return pd.DataFrame()\n",
    "\n",
    "# Paso 3: Obtener todas las URLs a procesar\n",
    "sitemap_url = 'https://victoryroad.pro/sitemap.xml'  # URL del sitemap principal\n",
    "urls = obtener_urls_de_sitemap(sitemap_url)\n",
    "\n",
    "# Paso 4: Iterar sobre todas las URLs y acumular los resultados\n",
    "df_final = pd.DataFrame()\n",
    "\n",
    "for url in urls:\n",
    "    df_url = obtener_tablas_y_h1(url)\n",
    "    if not df_url.empty:\n",
    "        df_final = pd.concat([df_final, df_url], ignore_index=True)\n",
    "\n",
    "# Paso 5: Mostrar y guardar el DataFrame final\n",
    "print(df_final)\n",
    "df_final.to_csv('vgc_data_2017-2025.csv', index=False, encoding='utf-8-sig')\n"
   ]
  },
  {
   "cell_type": "code",
   "execution_count": 41,
   "id": "fcc84fd2",
   "metadata": {},
   "outputs": [
    {
     "data": {
      "text/html": [
       "<a href='vgc_data_2017-2025.csv' target='_blank'>vgc_data_2017-2025.csv</a><br>"
      ],
      "text/plain": [
       "c:\\Users\\gmoli\\Desktop\\work\\vgc_data_2017-2025.csv"
      ]
     },
     "execution_count": 41,
     "metadata": {},
     "output_type": "execute_result"
    }
   ],
   "source": [
    "# Paso 9: Guardar como CSV\n",
    "df_final.to_csv('vgc_data_2017-2025.csv', index=False, encoding='utf-8-sig')\n",
    "\n",
    "from IPython.display import FileLink\n",
    "FileLink('vgc_data_2017-2025.csv')"
   ]
  },
  {
   "cell_type": "code",
   "execution_count": 43,
   "id": "b45ff3b6",
   "metadata": {},
   "outputs": [
    {
     "name": "stdout",
     "output_type": "stream",
     "text": [
      "         #        Name              Type Total   HP Attack Defense Sp. Atk  \\\n",
      "0     0001   Bulbasaur   [Grass, Poison]   318   45     49      49      65   \n",
      "1     0002     Ivysaur   [Grass, Poison]   405   60     62      63      80   \n",
      "2     0003    Venusaur   [Grass, Poison]   525   80     82      83     100   \n",
      "3     0003    Venusaur   [Grass, Poison]   625   80    100     123     122   \n",
      "4     0004  Charmander            [Fire]   309   39     52      43      60   \n",
      "...    ...         ...               ...   ...  ...    ...     ...     ...   \n",
      "1210  1023  Iron Crown  [Steel, Psychic]   590   90     72     100     122   \n",
      "1211  1024   Terapagos          [Normal]   450   90     65      85      65   \n",
      "1212  1024   Terapagos          [Normal]   600   95     95     110     105   \n",
      "1213  1024   Terapagos          [Normal]   700  160    105     110     130   \n",
      "1214  1025   Pecharunt   [Poison, Ghost]   600   88     88     160      88   \n",
      "\n",
      "     Sp. Def Speed  \n",
      "0         65    45  \n",
      "1         80    60  \n",
      "2        100    80  \n",
      "3        120    80  \n",
      "4         50    65  \n",
      "...      ...   ...  \n",
      "1210     108    98  \n",
      "1211      85    60  \n",
      "1212     110    85  \n",
      "1213     110    85  \n",
      "1214      88    88  \n",
      "\n",
      "[1215 rows x 10 columns]\n"
     ]
    }
   ],
   "source": [
    "import requests\n",
    "from bs4 import BeautifulSoup\n",
    "import pandas as pd\n",
    "\n",
    "# Paso 1: Solicitud HTTP\n",
    "url = 'https://pokemondb.net/pokedex/all'\n",
    "response = requests.get(url)\n",
    "soup = BeautifulSoup(response.text, 'html.parser')\n",
    "\n",
    "# Paso 2: Buscar la tabla con el ID 'pokedex'\n",
    "tabla = soup.find('table', {'id': 'pokedex'})\n",
    "\n",
    "# Paso 3: Procesar las filas de la tabla\n",
    "data = []\n",
    "\n",
    "# Iteramos sobre las filas de la tabla\n",
    "for row in tabla.find_all('tr')[1:]:  # El primer tr es el encabezado, por eso lo omitimos\n",
    "    cols = row.find_all('td')\n",
    "    if len(cols) > 1:  # Asegurarnos de que haya datos en la fila\n",
    "        pokemon_id = cols[0].text.strip()  # ID del Pokémon (columna 1)\n",
    "        name = cols[1].find('a').text.strip()  # Nombre del Pokémon (columna 2)\n",
    "        \n",
    "        # Obtenemos los tipos del Pokémon (columna 3)\n",
    "        tipos = [tipo.text.strip() for tipo in cols[2].find_all('a', class_='type-icon')]\n",
    "        \n",
    "        # Obtener las estadísticas de las demás columnas\n",
    "        total = cols[3].text.strip()\n",
    "        hp = cols[4].text.strip()\n",
    "        attack = cols[5].text.strip()\n",
    "        defense = cols[6].text.strip()\n",
    "        sp_atk = cols[7].text.strip()\n",
    "        sp_def = cols[8].text.strip()\n",
    "        speed = cols[9].text.strip()\n",
    "        \n",
    "        # Añadimos los datos a la lista\n",
    "        data.append([pokemon_id, name, tipos, total, hp, attack, defense, sp_atk, sp_def, speed])\n",
    "\n",
    "# Paso 4: Crear un DataFrame con los datos obtenidos\n",
    "df_pokedex = pd.DataFrame(data, columns=['#', 'Name', 'Type', 'Total', 'HP', 'Attack', 'Defense', 'Sp. Atk', 'Sp. Def', 'Speed'])\n",
    "\n",
    "# Paso 5: Mostrar y guardar el DataFrame\n",
    "print(df_pokedex)\n",
    "df_pokedex.to_csv('pokemon_pokedex_completo.csv', index=False, encoding='utf-8-sig')\n"
   ]
  },
  {
   "cell_type": "code",
   "execution_count": 49,
   "id": "db8f7b3e",
   "metadata": {},
   "outputs": [
    {
     "data": {
      "text/html": [
       "<a href='pokemon_pokedex_completo.csv' target='_blank'>pokemon_pokedex_completo.csv</a><br>"
      ],
      "text/plain": [
       "c:\\Users\\gmoli\\Desktop\\work\\pokemon_pokedex_completo.csv"
      ]
     },
     "execution_count": 49,
     "metadata": {},
     "output_type": "execute_result"
    }
   ],
   "source": [
    "# Paso 6: Guardar como CSV\n",
    "df_pokedex.to_csv('pokemon_pokedex_completo.csv', index=False, encoding='utf-8-sig')\n",
    "\n",
    "from IPython.display import FileLink\n",
    "FileLink('pokemon_pokedex_completo.csv')"
   ]
  }
 ],
 "metadata": {
  "kernelspec": {
   "display_name": "Python 3",
   "language": "python",
   "name": "python3"
  },
  "language_info": {
   "codemirror_mode": {
    "name": "ipython",
    "version": 3
   },
   "file_extension": ".py",
   "mimetype": "text/x-python",
   "name": "python",
   "nbconvert_exporter": "python",
   "pygments_lexer": "ipython3",
   "version": "3.8.10"
  }
 },
 "nbformat": 4,
 "nbformat_minor": 5
}
